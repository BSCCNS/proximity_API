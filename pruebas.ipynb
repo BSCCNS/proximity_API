{
 "cells": [
  {
   "cell_type": "code",
   "execution_count": 7,
   "metadata": {},
   "outputs": [],
   "source": [
    "import pandas as pd\n",
    "import geopandas as gpd\n",
    "import os\n",
    "from joblib import Parallel, delayed\n",
    "from pathlib import Path\n",
    "from proxi_API.data.settings import N_CORES, H3_ZOOM\n",
    "from proxi_API.model.data_processing import get_city, get_streets\n",
    "from proxi_API.model import data_aggregation\n",
    "from proxi_API.model import mobility_indices\n",
    "from proxi_API.model import h3_mapping\n",
    "import osmnx as ox\n",
    "import logging\n",
    "import h3\n",
    "from shapely import Polygon"
   ]
  },
  {
   "cell_type": "code",
   "execution_count": 214,
   "metadata": {},
   "outputs": [],
   "source": [
    "place = \"Barcelona, Spain\"\n",
    "G = ox.graph_from_place(place, network_type=\"walk\")"
   ]
  },
  {
   "cell_type": "code",
   "execution_count": 235,
   "metadata": {},
   "outputs": [],
   "source": [
    "nodes = ox.graph_to_gdfs(G, nodes=True, edges=False, node_geometry= False).reset_index()[['x','y']]\n",
    "nodes = nodes.rename(columns = {'x': 'lon', 'y': 'lat'})"
   ]
  },
  {
   "cell_type": "code",
   "execution_count": 237,
   "metadata": {},
   "outputs": [],
   "source": [
    "# Step 2: Extract node coordinates\n",
    "nodes = ox.graph_to_gdfs(G, nodes=True, edges=False, node_geometry= False).reset_index()[['x','y']]\n",
    "nodes = nodes.rename(columns = {'x': 'lon', 'y': 'lat'})\n",
    "\n",
    "resolution = 9\n",
    "nodes[\"h3_index\"] = nodes.apply(lambda row: h3.latlng_to_cell(row[\"lat\"], row[\"lon\"], resolution), axis=1)\n",
    "\n",
    "h3_polygons = {\n",
    "    h3_index: Polygon(h3.cell_to_boundary(h3_index))\n",
    "    for h3_index in nodes[\"h3_index\"].unique()\n",
    "}\n",
    "\n",
    "h3_gdf = gpd.GeoDataFrame(h3_polygons.items(), columns=[\"h3_index\", \"geometry\"])\n",
    "h3_gdf['lon'] = h3_gdf.geometry.centroid.x\n",
    "h3_gdf['lat'] = h3_gdf.geometry.centroid.y\n",
    "h3_gdf['nearest_node'] = ox.distance.nearest_nodes(G, X = h3_gdf['lon'], Y = h3_gdf['lat'])"
   ]
  },
  {
   "cell_type": "code",
   "execution_count": 238,
   "metadata": {},
   "outputs": [],
   "source": [
    "# Flatten the categories dictionary into a single mapping (amenity -> category)\n",
    "amenity_to_category = {amenity: category for category, amenities in categories.items() for amenity in amenities}\n",
    "\n",
    "def compute_length(Id1, Id2, G):\n",
    "    path = ox.routing.shortest_path(G, Id1, Id2)\n",
    "    if path is None:\n",
    "        result = -1\n",
    "    \n",
    "    else:\n",
    "        result = sum(G[u][v][0][\"length\"] for u, v in zip(path[:-1], path[1:]))\n",
    "\n",
    "    return result\n"
   ]
  },
  {
   "cell_type": "code",
   "execution_count": 298,
   "metadata": {},
   "outputs": [],
   "source": [
    "def proximity_time(p1, category, G, N = 100):\n",
    "    i = 1\n",
    "    while True:\n",
    "        pois = ox.features_from_point((p1.lon, p1.lat), dist = N*i, tags = {'amenity':True})\n",
    "        pois['category'] = pois['amenity'].map(amenity_to_category)\n",
    "        pois = pois[pois['category'] == category]\n",
    "        pois = pois.to_crs(epsg=3857)\n",
    "        pois[\"nearest_node\"] = ox.distance.nearest_nodes(G, X = pois.geometry.centroid.x, Y = pois.geometry.centroid.y)\n",
    "        pois['distance'] = pois['nearest_node'].apply(lambda x: compute_length(p1.nearest_node, x, G))\n",
    "        \n",
    "        pois = pois[pois['distance']!= -1]\n",
    "        \n",
    "        if len(pois)>0:\n",
    "            break\n",
    "\n",
    "        i += 1\n",
    "    \n",
    "    dis = pois['distance'].min()\n",
    "\n",
    "\n",
    "    return dis\n",
    "        "
   ]
  },
  {
   "cell_type": "code",
   "execution_count": 299,
   "metadata": {},
   "outputs": [
    {
     "ename": "ValueError",
     "evalue": "Found array with 0 sample(s) (shape=(0, 2)) while a minimum of 1 is required.",
     "output_type": "error",
     "traceback": [
      "\u001b[0;31m---------------------------------------------------------------------------\u001b[0m",
      "\u001b[0;31mValueError\u001b[0m                                Traceback (most recent call last)",
      "Cell \u001b[0;32mIn[299], line 2\u001b[0m\n\u001b[1;32m      1\u001b[0m h3_gdf \u001b[38;5;241m=\u001b[39m h3_gdf\n\u001b[0;32m----> 2\u001b[0m h3_gdf[\u001b[38;5;124m'\u001b[39m\u001b[38;5;124mdistance\u001b[39m\u001b[38;5;124m'\u001b[39m] \u001b[38;5;241m=\u001b[39m \u001b[43mh3_gdf\u001b[49m\u001b[38;5;241;43m.\u001b[39;49m\u001b[43mapply\u001b[49m\u001b[43m(\u001b[49m\u001b[38;5;28;43;01mlambda\u001b[39;49;00m\u001b[43m \u001b[49m\u001b[43mrow\u001b[49m\u001b[43m:\u001b[49m\u001b[43m \u001b[49m\u001b[43mproximity_time\u001b[49m\u001b[43m(\u001b[49m\u001b[43mrow\u001b[49m\u001b[43m,\u001b[49m\u001b[43m \u001b[49m\u001b[38;5;124;43m'\u001b[39;49m\u001b[38;5;124;43mrestaurant\u001b[39;49m\u001b[38;5;124;43m'\u001b[39;49m\u001b[43m,\u001b[49m\u001b[43m \u001b[49m\u001b[43mG\u001b[49m\u001b[43m)\u001b[49m\u001b[43m,\u001b[49m\u001b[43m \u001b[49m\u001b[43maxis\u001b[49m\u001b[38;5;241;43m=\u001b[39;49m\u001b[38;5;241;43m1\u001b[39;49m\u001b[43m)\u001b[49m\n",
      "File \u001b[0;32m~/Documents/proximity_API/.venv/lib/python3.12/site-packages/geopandas/geodataframe.py:2000\u001b[0m, in \u001b[0;36mGeoDataFrame.apply\u001b[0;34m(self, func, axis, raw, result_type, args, **kwargs)\u001b[0m\n\u001b[1;32m   1990\u001b[0m \u001b[38;5;129m@doc\u001b[39m(pd\u001b[38;5;241m.\u001b[39mDataFrame)\n\u001b[1;32m   1991\u001b[0m \u001b[38;5;28;01mdef\u001b[39;00m\u001b[38;5;250m \u001b[39m\u001b[38;5;21mapply\u001b[39m(\n\u001b[1;32m   1992\u001b[0m     \u001b[38;5;28mself\u001b[39m,\n\u001b[0;32m   (...)\u001b[0m\n\u001b[1;32m   1998\u001b[0m     \u001b[38;5;241m*\u001b[39m\u001b[38;5;241m*\u001b[39mkwargs,\n\u001b[1;32m   1999\u001b[0m ):\n\u001b[0;32m-> 2000\u001b[0m     result \u001b[38;5;241m=\u001b[39m \u001b[38;5;28;43msuper\u001b[39;49m\u001b[43m(\u001b[49m\u001b[43m)\u001b[49m\u001b[38;5;241;43m.\u001b[39;49m\u001b[43mapply\u001b[49m\u001b[43m(\u001b[49m\n\u001b[1;32m   2001\u001b[0m \u001b[43m        \u001b[49m\u001b[43mfunc\u001b[49m\u001b[43m,\u001b[49m\u001b[43m \u001b[49m\u001b[43maxis\u001b[49m\u001b[38;5;241;43m=\u001b[39;49m\u001b[43maxis\u001b[49m\u001b[43m,\u001b[49m\u001b[43m \u001b[49m\u001b[43mraw\u001b[49m\u001b[38;5;241;43m=\u001b[39;49m\u001b[43mraw\u001b[49m\u001b[43m,\u001b[49m\u001b[43m \u001b[49m\u001b[43mresult_type\u001b[49m\u001b[38;5;241;43m=\u001b[39;49m\u001b[43mresult_type\u001b[49m\u001b[43m,\u001b[49m\u001b[43m \u001b[49m\u001b[43margs\u001b[49m\u001b[38;5;241;43m=\u001b[39;49m\u001b[43margs\u001b[49m\u001b[43m,\u001b[49m\u001b[43m \u001b[49m\u001b[38;5;241;43m*\u001b[39;49m\u001b[38;5;241;43m*\u001b[39;49m\u001b[43mkwargs\u001b[49m\n\u001b[1;32m   2002\u001b[0m \u001b[43m    \u001b[49m\u001b[43m)\u001b[49m\n\u001b[1;32m   2003\u001b[0m     \u001b[38;5;66;03m# Reconstruct gdf if it was lost by apply\u001b[39;00m\n\u001b[1;32m   2004\u001b[0m     \u001b[38;5;28;01mif\u001b[39;00m (\n\u001b[1;32m   2005\u001b[0m         \u001b[38;5;28misinstance\u001b[39m(result, DataFrame)\n\u001b[1;32m   2006\u001b[0m         \u001b[38;5;129;01mand\u001b[39;00m \u001b[38;5;28mself\u001b[39m\u001b[38;5;241m.\u001b[39m_geometry_column_name \u001b[38;5;129;01min\u001b[39;00m result\u001b[38;5;241m.\u001b[39mcolumns\n\u001b[1;32m   2007\u001b[0m     ):\n\u001b[1;32m   2008\u001b[0m         \u001b[38;5;66;03m# axis=1 apply will split GeometryDType to object, try and cast back\u001b[39;00m\n",
      "File \u001b[0;32m~/Documents/proximity_API/.venv/lib/python3.12/site-packages/pandas/core/frame.py:10374\u001b[0m, in \u001b[0;36mDataFrame.apply\u001b[0;34m(self, func, axis, raw, result_type, args, by_row, engine, engine_kwargs, **kwargs)\u001b[0m\n\u001b[1;32m  10360\u001b[0m \u001b[38;5;28;01mfrom\u001b[39;00m\u001b[38;5;250m \u001b[39m\u001b[38;5;21;01mpandas\u001b[39;00m\u001b[38;5;21;01m.\u001b[39;00m\u001b[38;5;21;01mcore\u001b[39;00m\u001b[38;5;21;01m.\u001b[39;00m\u001b[38;5;21;01mapply\u001b[39;00m\u001b[38;5;250m \u001b[39m\u001b[38;5;28;01mimport\u001b[39;00m frame_apply\n\u001b[1;32m  10362\u001b[0m op \u001b[38;5;241m=\u001b[39m frame_apply(\n\u001b[1;32m  10363\u001b[0m     \u001b[38;5;28mself\u001b[39m,\n\u001b[1;32m  10364\u001b[0m     func\u001b[38;5;241m=\u001b[39mfunc,\n\u001b[0;32m   (...)\u001b[0m\n\u001b[1;32m  10372\u001b[0m     kwargs\u001b[38;5;241m=\u001b[39mkwargs,\n\u001b[1;32m  10373\u001b[0m )\n\u001b[0;32m> 10374\u001b[0m \u001b[38;5;28;01mreturn\u001b[39;00m \u001b[43mop\u001b[49m\u001b[38;5;241;43m.\u001b[39;49m\u001b[43mapply\u001b[49m\u001b[43m(\u001b[49m\u001b[43m)\u001b[49m\u001b[38;5;241m.\u001b[39m__finalize__(\u001b[38;5;28mself\u001b[39m, method\u001b[38;5;241m=\u001b[39m\u001b[38;5;124m\"\u001b[39m\u001b[38;5;124mapply\u001b[39m\u001b[38;5;124m\"\u001b[39m)\n",
      "File \u001b[0;32m~/Documents/proximity_API/.venv/lib/python3.12/site-packages/pandas/core/apply.py:916\u001b[0m, in \u001b[0;36mFrameApply.apply\u001b[0;34m(self)\u001b[0m\n\u001b[1;32m    913\u001b[0m \u001b[38;5;28;01melif\u001b[39;00m \u001b[38;5;28mself\u001b[39m\u001b[38;5;241m.\u001b[39mraw:\n\u001b[1;32m    914\u001b[0m     \u001b[38;5;28;01mreturn\u001b[39;00m \u001b[38;5;28mself\u001b[39m\u001b[38;5;241m.\u001b[39mapply_raw(engine\u001b[38;5;241m=\u001b[39m\u001b[38;5;28mself\u001b[39m\u001b[38;5;241m.\u001b[39mengine, engine_kwargs\u001b[38;5;241m=\u001b[39m\u001b[38;5;28mself\u001b[39m\u001b[38;5;241m.\u001b[39mengine_kwargs)\n\u001b[0;32m--> 916\u001b[0m \u001b[38;5;28;01mreturn\u001b[39;00m \u001b[38;5;28;43mself\u001b[39;49m\u001b[38;5;241;43m.\u001b[39;49m\u001b[43mapply_standard\u001b[49m\u001b[43m(\u001b[49m\u001b[43m)\u001b[49m\n",
      "File \u001b[0;32m~/Documents/proximity_API/.venv/lib/python3.12/site-packages/pandas/core/apply.py:1063\u001b[0m, in \u001b[0;36mFrameApply.apply_standard\u001b[0;34m(self)\u001b[0m\n\u001b[1;32m   1061\u001b[0m \u001b[38;5;28;01mdef\u001b[39;00m\u001b[38;5;250m \u001b[39m\u001b[38;5;21mapply_standard\u001b[39m(\u001b[38;5;28mself\u001b[39m):\n\u001b[1;32m   1062\u001b[0m     \u001b[38;5;28;01mif\u001b[39;00m \u001b[38;5;28mself\u001b[39m\u001b[38;5;241m.\u001b[39mengine \u001b[38;5;241m==\u001b[39m \u001b[38;5;124m\"\u001b[39m\u001b[38;5;124mpython\u001b[39m\u001b[38;5;124m\"\u001b[39m:\n\u001b[0;32m-> 1063\u001b[0m         results, res_index \u001b[38;5;241m=\u001b[39m \u001b[38;5;28;43mself\u001b[39;49m\u001b[38;5;241;43m.\u001b[39;49m\u001b[43mapply_series_generator\u001b[49m\u001b[43m(\u001b[49m\u001b[43m)\u001b[49m\n\u001b[1;32m   1064\u001b[0m     \u001b[38;5;28;01melse\u001b[39;00m:\n\u001b[1;32m   1065\u001b[0m         results, res_index \u001b[38;5;241m=\u001b[39m \u001b[38;5;28mself\u001b[39m\u001b[38;5;241m.\u001b[39mapply_series_numba()\n",
      "File \u001b[0;32m~/Documents/proximity_API/.venv/lib/python3.12/site-packages/pandas/core/apply.py:1081\u001b[0m, in \u001b[0;36mFrameApply.apply_series_generator\u001b[0;34m(self)\u001b[0m\n\u001b[1;32m   1078\u001b[0m \u001b[38;5;28;01mwith\u001b[39;00m option_context(\u001b[38;5;124m\"\u001b[39m\u001b[38;5;124mmode.chained_assignment\u001b[39m\u001b[38;5;124m\"\u001b[39m, \u001b[38;5;28;01mNone\u001b[39;00m):\n\u001b[1;32m   1079\u001b[0m     \u001b[38;5;28;01mfor\u001b[39;00m i, v \u001b[38;5;129;01min\u001b[39;00m \u001b[38;5;28menumerate\u001b[39m(series_gen):\n\u001b[1;32m   1080\u001b[0m         \u001b[38;5;66;03m# ignore SettingWithCopy here in case the user mutates\u001b[39;00m\n\u001b[0;32m-> 1081\u001b[0m         results[i] \u001b[38;5;241m=\u001b[39m \u001b[38;5;28;43mself\u001b[39;49m\u001b[38;5;241;43m.\u001b[39;49m\u001b[43mfunc\u001b[49m\u001b[43m(\u001b[49m\u001b[43mv\u001b[49m\u001b[43m,\u001b[49m\u001b[43m \u001b[49m\u001b[38;5;241;43m*\u001b[39;49m\u001b[38;5;28;43mself\u001b[39;49m\u001b[38;5;241;43m.\u001b[39;49m\u001b[43margs\u001b[49m\u001b[43m,\u001b[49m\u001b[43m \u001b[49m\u001b[38;5;241;43m*\u001b[39;49m\u001b[38;5;241;43m*\u001b[39;49m\u001b[38;5;28;43mself\u001b[39;49m\u001b[38;5;241;43m.\u001b[39;49m\u001b[43mkwargs\u001b[49m\u001b[43m)\u001b[49m\n\u001b[1;32m   1082\u001b[0m         \u001b[38;5;28;01mif\u001b[39;00m \u001b[38;5;28misinstance\u001b[39m(results[i], ABCSeries):\n\u001b[1;32m   1083\u001b[0m             \u001b[38;5;66;03m# If we have a view on v, we need to make a copy because\u001b[39;00m\n\u001b[1;32m   1084\u001b[0m             \u001b[38;5;66;03m#  series_generator will swap out the underlying data\u001b[39;00m\n\u001b[1;32m   1085\u001b[0m             results[i] \u001b[38;5;241m=\u001b[39m results[i]\u001b[38;5;241m.\u001b[39mcopy(deep\u001b[38;5;241m=\u001b[39m\u001b[38;5;28;01mFalse\u001b[39;00m)\n",
      "Cell \u001b[0;32mIn[299], line 2\u001b[0m, in \u001b[0;36m<lambda>\u001b[0;34m(row)\u001b[0m\n\u001b[1;32m      1\u001b[0m h3_gdf \u001b[38;5;241m=\u001b[39m h3_gdf\n\u001b[0;32m----> 2\u001b[0m h3_gdf[\u001b[38;5;124m'\u001b[39m\u001b[38;5;124mdistance\u001b[39m\u001b[38;5;124m'\u001b[39m] \u001b[38;5;241m=\u001b[39m h3_gdf\u001b[38;5;241m.\u001b[39mapply(\u001b[38;5;28;01mlambda\u001b[39;00m row: \u001b[43mproximity_time\u001b[49m\u001b[43m(\u001b[49m\u001b[43mrow\u001b[49m\u001b[43m,\u001b[49m\u001b[43m \u001b[49m\u001b[38;5;124;43m'\u001b[39;49m\u001b[38;5;124;43mrestaurant\u001b[39;49m\u001b[38;5;124;43m'\u001b[39;49m\u001b[43m,\u001b[49m\u001b[43m \u001b[49m\u001b[43mG\u001b[49m\u001b[43m)\u001b[49m, axis\u001b[38;5;241m=\u001b[39m\u001b[38;5;241m1\u001b[39m)\n",
      "Cell \u001b[0;32mIn[298], line 8\u001b[0m, in \u001b[0;36mproximity_time\u001b[0;34m(p1, category, G, N)\u001b[0m\n\u001b[1;32m      6\u001b[0m pois \u001b[38;5;241m=\u001b[39m pois[pois[\u001b[38;5;124m'\u001b[39m\u001b[38;5;124mcategory\u001b[39m\u001b[38;5;124m'\u001b[39m] \u001b[38;5;241m==\u001b[39m category]\n\u001b[1;32m      7\u001b[0m pois \u001b[38;5;241m=\u001b[39m pois\u001b[38;5;241m.\u001b[39mto_crs(epsg\u001b[38;5;241m=\u001b[39m\u001b[38;5;241m3857\u001b[39m)\n\u001b[0;32m----> 8\u001b[0m pois[\u001b[38;5;124m\"\u001b[39m\u001b[38;5;124mnearest_node\u001b[39m\u001b[38;5;124m\"\u001b[39m] \u001b[38;5;241m=\u001b[39m \u001b[43mox\u001b[49m\u001b[38;5;241;43m.\u001b[39;49m\u001b[43mdistance\u001b[49m\u001b[38;5;241;43m.\u001b[39;49m\u001b[43mnearest_nodes\u001b[49m\u001b[43m(\u001b[49m\u001b[43mG\u001b[49m\u001b[43m,\u001b[49m\u001b[43m \u001b[49m\u001b[43mX\u001b[49m\u001b[43m \u001b[49m\u001b[38;5;241;43m=\u001b[39;49m\u001b[43m \u001b[49m\u001b[43mpois\u001b[49m\u001b[38;5;241;43m.\u001b[39;49m\u001b[43mgeometry\u001b[49m\u001b[38;5;241;43m.\u001b[39;49m\u001b[43mcentroid\u001b[49m\u001b[38;5;241;43m.\u001b[39;49m\u001b[43mx\u001b[49m\u001b[43m,\u001b[49m\u001b[43m \u001b[49m\u001b[43mY\u001b[49m\u001b[43m \u001b[49m\u001b[38;5;241;43m=\u001b[39;49m\u001b[43m \u001b[49m\u001b[43mpois\u001b[49m\u001b[38;5;241;43m.\u001b[39;49m\u001b[43mgeometry\u001b[49m\u001b[38;5;241;43m.\u001b[39;49m\u001b[43mcentroid\u001b[49m\u001b[38;5;241;43m.\u001b[39;49m\u001b[43my\u001b[49m\u001b[43m)\u001b[49m\n\u001b[1;32m      9\u001b[0m pois[\u001b[38;5;124m'\u001b[39m\u001b[38;5;124mdistance\u001b[39m\u001b[38;5;124m'\u001b[39m] \u001b[38;5;241m=\u001b[39m pois[\u001b[38;5;124m'\u001b[39m\u001b[38;5;124mnearest_node\u001b[39m\u001b[38;5;124m'\u001b[39m]\u001b[38;5;241m.\u001b[39mapply(\u001b[38;5;28;01mlambda\u001b[39;00m x: compute_length(p1\u001b[38;5;241m.\u001b[39mnearest_node, x, G))\n\u001b[1;32m     11\u001b[0m pois \u001b[38;5;241m=\u001b[39m pois[pois[\u001b[38;5;124m'\u001b[39m\u001b[38;5;124mdistance\u001b[39m\u001b[38;5;124m'\u001b[39m]\u001b[38;5;241m!=\u001b[39m \u001b[38;5;241m-\u001b[39m\u001b[38;5;241m1\u001b[39m]\n",
      "File \u001b[0;32m~/Documents/proximity_API/.venv/lib/python3.12/site-packages/osmnx/distance.py:375\u001b[0m, in \u001b[0;36mnearest_nodes\u001b[0;34m(G, X, Y, return_dist)\u001b[0m\n\u001b[1;32m    373\u001b[0m nodes_rad \u001b[38;5;241m=\u001b[39m np\u001b[38;5;241m.\u001b[39mdeg2rad(nodes[[\u001b[38;5;124m\"\u001b[39m\u001b[38;5;124my\u001b[39m\u001b[38;5;124m\"\u001b[39m, \u001b[38;5;124m\"\u001b[39m\u001b[38;5;124mx\u001b[39m\u001b[38;5;124m\"\u001b[39m]])\n\u001b[1;32m    374\u001b[0m points_rad \u001b[38;5;241m=\u001b[39m np\u001b[38;5;241m.\u001b[39mdeg2rad(np\u001b[38;5;241m.\u001b[39marray([Y_arr, X_arr])\u001b[38;5;241m.\u001b[39mT)\n\u001b[0;32m--> 375\u001b[0m dist_array, pos \u001b[38;5;241m=\u001b[39m \u001b[43mBallTree\u001b[49m\u001b[43m(\u001b[49m\u001b[43mnodes_rad\u001b[49m\u001b[43m,\u001b[49m\u001b[43m \u001b[49m\u001b[43mmetric\u001b[49m\u001b[38;5;241;43m=\u001b[39;49m\u001b[38;5;124;43m\"\u001b[39;49m\u001b[38;5;124;43mhaversine\u001b[39;49m\u001b[38;5;124;43m\"\u001b[39;49m\u001b[43m)\u001b[49m\u001b[38;5;241;43m.\u001b[39;49m\u001b[43mquery\u001b[49m\u001b[43m(\u001b[49m\u001b[43mpoints_rad\u001b[49m\u001b[43m,\u001b[49m\u001b[43m \u001b[49m\u001b[43mk\u001b[49m\u001b[38;5;241;43m=\u001b[39;49m\u001b[38;5;241;43m1\u001b[39;49m\u001b[43m)\u001b[49m\n\u001b[1;32m    376\u001b[0m dist_array \u001b[38;5;241m=\u001b[39m dist_array[:, \u001b[38;5;241m0\u001b[39m] \u001b[38;5;241m*\u001b[39m EARTH_RADIUS_M  \u001b[38;5;66;03m# convert radians -> meters\u001b[39;00m\n\u001b[1;32m    377\u001b[0m nn_array \u001b[38;5;241m=\u001b[39m nodes\u001b[38;5;241m.\u001b[39mindex[pos[:, \u001b[38;5;241m0\u001b[39m]]\u001b[38;5;241m.\u001b[39mto_numpy()\n",
      "File \u001b[0;32msklearn/neighbors/_binary_tree.pxi:1173\u001b[0m, in \u001b[0;36msklearn.neighbors._ball_tree.BinaryTree64.query\u001b[0;34m()\u001b[0m\n",
      "File \u001b[0;32m~/Documents/proximity_API/.venv/lib/python3.12/site-packages/sklearn/utils/validation.py:1130\u001b[0m, in \u001b[0;36mcheck_array\u001b[0;34m(array, accept_sparse, accept_large_sparse, dtype, order, copy, force_writeable, force_all_finite, ensure_all_finite, ensure_non_negative, ensure_2d, allow_nd, ensure_min_samples, ensure_min_features, estimator, input_name)\u001b[0m\n\u001b[1;32m   1128\u001b[0m     n_samples \u001b[38;5;241m=\u001b[39m _num_samples(array)\n\u001b[1;32m   1129\u001b[0m     \u001b[38;5;28;01mif\u001b[39;00m n_samples \u001b[38;5;241m<\u001b[39m ensure_min_samples:\n\u001b[0;32m-> 1130\u001b[0m         \u001b[38;5;28;01mraise\u001b[39;00m \u001b[38;5;167;01mValueError\u001b[39;00m(\n\u001b[1;32m   1131\u001b[0m             \u001b[38;5;124m\"\u001b[39m\u001b[38;5;124mFound array with \u001b[39m\u001b[38;5;132;01m%d\u001b[39;00m\u001b[38;5;124m sample(s) (shape=\u001b[39m\u001b[38;5;132;01m%s\u001b[39;00m\u001b[38;5;124m) while a\u001b[39m\u001b[38;5;124m\"\u001b[39m\n\u001b[1;32m   1132\u001b[0m             \u001b[38;5;124m\"\u001b[39m\u001b[38;5;124m minimum of \u001b[39m\u001b[38;5;132;01m%d\u001b[39;00m\u001b[38;5;124m is required\u001b[39m\u001b[38;5;132;01m%s\u001b[39;00m\u001b[38;5;124m.\u001b[39m\u001b[38;5;124m\"\u001b[39m\n\u001b[1;32m   1133\u001b[0m             \u001b[38;5;241m%\u001b[39m (n_samples, array\u001b[38;5;241m.\u001b[39mshape, ensure_min_samples, context)\n\u001b[1;32m   1134\u001b[0m         )\n\u001b[1;32m   1136\u001b[0m \u001b[38;5;28;01mif\u001b[39;00m ensure_min_features \u001b[38;5;241m>\u001b[39m \u001b[38;5;241m0\u001b[39m \u001b[38;5;129;01mand\u001b[39;00m array\u001b[38;5;241m.\u001b[39mndim \u001b[38;5;241m==\u001b[39m \u001b[38;5;241m2\u001b[39m:\n\u001b[1;32m   1137\u001b[0m     n_features \u001b[38;5;241m=\u001b[39m array\u001b[38;5;241m.\u001b[39mshape[\u001b[38;5;241m1\u001b[39m]\n",
      "\u001b[0;31mValueError\u001b[0m: Found array with 0 sample(s) (shape=(0, 2)) while a minimum of 1 is required."
     ]
    }
   ],
   "source": [
    "h3_gdf = h3_gdf\n",
    "h3_gdf['distance'] = h3_gdf.apply(lambda row: proximity_time(row, 'restaurant', G), axis=1)"
   ]
  },
  {
   "cell_type": "code",
   "execution_count": null,
   "metadata": {},
   "outputs": [],
   "source": []
  },
  {
   "cell_type": "code",
   "execution_count": null,
   "metadata": {},
   "outputs": [],
   "source": []
  },
  {
   "cell_type": "code",
   "execution_count": null,
   "metadata": {},
   "outputs": [],
   "source": []
  },
  {
   "cell_type": "code",
   "execution_count": null,
   "metadata": {},
   "outputs": [],
   "source": []
  },
  {
   "cell_type": "code",
   "execution_count": null,
   "metadata": {},
   "outputs": [],
   "source": []
  },
  {
   "cell_type": "code",
   "execution_count": null,
   "metadata": {},
   "outputs": [],
   "source": []
  },
  {
   "cell_type": "code",
   "execution_count": null,
   "metadata": {},
   "outputs": [
    {
     "data": {
      "text/plain": [
       "np.float64(13372.69694671751)"
      ]
     },
     "execution_count": 268,
     "metadata": {},
     "output_type": "execute_result"
    }
   ],
   "source": []
  },
  {
   "cell_type": "code",
   "execution_count": null,
   "metadata": {},
   "outputs": [],
   "source": [
    "def compute_length(Id1, Id2, G):\n",
    "    path = ox.routing.shortest_path(G, Id1, Id2)\n",
    "    return sum(G[u][v][0][\"length\"] for u, v in zip(path[:-1], path[1:]))"
   ]
  },
  {
   "cell_type": "code",
   "execution_count": 105,
   "metadata": {},
   "outputs": [],
   "source": [
    "def distance_to_ammenity(p_origin, df, category, G = G):\n",
    "    df = df[df['category'] == category].copy()\n",
    "    df['distance'] = df['ID'].apply(lambda x: compute_length(p_origin, x, G))\n",
    "\n",
    "    return df['distance'].min()\n"
   ]
  },
  {
   "cell_type": "code",
   "execution_count": 11,
   "metadata": {},
   "outputs": [
    {
     "data": {
      "text/plain": [
       "array(['shower', 'bicycle_rental', 'bicycle_parking', 'toilets',\n",
       "       'motorcycle_parking', 'dive_centre', 'bar'], dtype=object)"
      ]
     },
     "execution_count": 11,
     "metadata": {},
     "output_type": "execute_result"
    }
   ],
   "source": [
    "pois.amenity.unique()"
   ]
  },
  {
   "cell_type": "code",
   "execution_count": 29,
   "metadata": {},
   "outputs": [
    {
     "data": {
      "application/vnd.microsoft.datawrangler.viewer.v0+json": {
       "columns": [
        {
         "name": "('element', 'id')",
         "rawType": "object",
         "type": "unknown"
        },
        {
         "name": "amenity",
         "rawType": "object",
         "type": "string"
        },
        {
         "name": "category",
         "rawType": "object",
         "type": "string"
        },
        {
         "name": "node_value",
         "rawType": "int64",
         "type": "integer"
        }
       ],
       "conversionMethod": "pd.DataFrame",
       "ref": "8cc0770c-6436-427f-807d-5ac35ec8b92b",
       "rows": [
        [
         "('node', np.int64(3643911945))",
         "shower",
         "services",
         "3643911945"
        ],
        [
         "('node', np.int64(4374272505))",
         "bicycle_rental",
         "outdoor",
         "4374272505"
        ],
        [
         "('node', np.int64(4668532006))",
         "shower",
         "services",
         "4668532006"
        ],
        [
         "('node', np.int64(5262549963))",
         "bicycle_rental",
         "outdoor",
         "5262549963"
        ],
        [
         "('node', np.int64(6933505402))",
         "bicycle_parking",
         "outdoor",
         "6933505402"
        ],
        [
         "('node', np.int64(9658016746))",
         "toilets",
         "services",
         "9658016746"
        ],
        [
         "('node', np.int64(9699830617))",
         "bicycle_parking",
         "outdoor",
         "9699830617"
        ],
        [
         "('node', np.int64(9700065742))",
         "motorcycle_parking",
         "transport",
         "9700065742"
        ],
        [
         "('node', np.int64(9700065743))",
         "motorcycle_parking",
         "transport",
         "9700065743"
        ],
        [
         "('node', np.int64(12018261473))",
         "dive_centre",
         "outdoor",
         "12018261473"
        ],
        [
         "('node', np.int64(12020145685))",
         "bar",
         "restaurant",
         "12020145685"
        ],
        [
         "('node', np.int64(12020145686))",
         "bar",
         "restaurant",
         "12020145686"
        ]
       ],
       "shape": {
        "columns": 3,
        "rows": 12
       }
      },
      "text/html": [
       "<div>\n",
       "<style scoped>\n",
       "    .dataframe tbody tr th:only-of-type {\n",
       "        vertical-align: middle;\n",
       "    }\n",
       "\n",
       "    .dataframe tbody tr th {\n",
       "        vertical-align: top;\n",
       "    }\n",
       "\n",
       "    .dataframe thead th {\n",
       "        text-align: right;\n",
       "    }\n",
       "</style>\n",
       "<table border=\"1\" class=\"dataframe\">\n",
       "  <thead>\n",
       "    <tr style=\"text-align: right;\">\n",
       "      <th></th>\n",
       "      <th></th>\n",
       "      <th>amenity</th>\n",
       "      <th>category</th>\n",
       "      <th>node_value</th>\n",
       "    </tr>\n",
       "    <tr>\n",
       "      <th>element</th>\n",
       "      <th>id</th>\n",
       "      <th></th>\n",
       "      <th></th>\n",
       "      <th></th>\n",
       "    </tr>\n",
       "  </thead>\n",
       "  <tbody>\n",
       "    <tr>\n",
       "      <th rowspan=\"12\" valign=\"top\">node</th>\n",
       "      <th>3643911945</th>\n",
       "      <td>shower</td>\n",
       "      <td>services</td>\n",
       "      <td>3643911945</td>\n",
       "    </tr>\n",
       "    <tr>\n",
       "      <th>4374272505</th>\n",
       "      <td>bicycle_rental</td>\n",
       "      <td>outdoor</td>\n",
       "      <td>4374272505</td>\n",
       "    </tr>\n",
       "    <tr>\n",
       "      <th>4668532006</th>\n",
       "      <td>shower</td>\n",
       "      <td>services</td>\n",
       "      <td>4668532006</td>\n",
       "    </tr>\n",
       "    <tr>\n",
       "      <th>5262549963</th>\n",
       "      <td>bicycle_rental</td>\n",
       "      <td>outdoor</td>\n",
       "      <td>5262549963</td>\n",
       "    </tr>\n",
       "    <tr>\n",
       "      <th>6933505402</th>\n",
       "      <td>bicycle_parking</td>\n",
       "      <td>outdoor</td>\n",
       "      <td>6933505402</td>\n",
       "    </tr>\n",
       "    <tr>\n",
       "      <th>9658016746</th>\n",
       "      <td>toilets</td>\n",
       "      <td>services</td>\n",
       "      <td>9658016746</td>\n",
       "    </tr>\n",
       "    <tr>\n",
       "      <th>9699830617</th>\n",
       "      <td>bicycle_parking</td>\n",
       "      <td>outdoor</td>\n",
       "      <td>9699830617</td>\n",
       "    </tr>\n",
       "    <tr>\n",
       "      <th>9700065742</th>\n",
       "      <td>motorcycle_parking</td>\n",
       "      <td>transport</td>\n",
       "      <td>9700065742</td>\n",
       "    </tr>\n",
       "    <tr>\n",
       "      <th>9700065743</th>\n",
       "      <td>motorcycle_parking</td>\n",
       "      <td>transport</td>\n",
       "      <td>9700065743</td>\n",
       "    </tr>\n",
       "    <tr>\n",
       "      <th>12018261473</th>\n",
       "      <td>dive_centre</td>\n",
       "      <td>outdoor</td>\n",
       "      <td>12018261473</td>\n",
       "    </tr>\n",
       "    <tr>\n",
       "      <th>12020145685</th>\n",
       "      <td>bar</td>\n",
       "      <td>restaurant</td>\n",
       "      <td>12020145685</td>\n",
       "    </tr>\n",
       "    <tr>\n",
       "      <th>12020145686</th>\n",
       "      <td>bar</td>\n",
       "      <td>restaurant</td>\n",
       "      <td>12020145686</td>\n",
       "    </tr>\n",
       "  </tbody>\n",
       "</table>\n",
       "</div>"
      ],
      "text/plain": [
       "                                amenity    category   node_value\n",
       "element id                                                      \n",
       "node    3643911945               shower    services   3643911945\n",
       "        4374272505       bicycle_rental     outdoor   4374272505\n",
       "        4668532006               shower    services   4668532006\n",
       "        5262549963       bicycle_rental     outdoor   5262549963\n",
       "        6933505402      bicycle_parking     outdoor   6933505402\n",
       "        9658016746              toilets    services   9658016746\n",
       "        9699830617      bicycle_parking     outdoor   9699830617\n",
       "        9700065742   motorcycle_parking   transport   9700065742\n",
       "        9700065743   motorcycle_parking   transport   9700065743\n",
       "        12018261473         dive_centre     outdoor  12018261473\n",
       "        12020145685                 bar  restaurant  12020145685\n",
       "        12020145686                 bar  restaurant  12020145686"
      ]
     },
     "execution_count": 29,
     "metadata": {},
     "output_type": "execute_result"
    }
   ],
   "source": [
    "pois"
   ]
  },
  {
   "cell_type": "code",
   "execution_count": 125,
   "metadata": {},
   "outputs": [
    {
     "ename": "AttributeError",
     "evalue": "'NoneType' object has no attribute 'copy'",
     "output_type": "error",
     "traceback": [
      "\u001b[0;31m---------------------------------------------------------------------------\u001b[0m",
      "\u001b[0;31mAttributeError\u001b[0m                            Traceback (most recent call last)",
      "File \u001b[0;32m~/Documents/proximity_API/.venv/lib/python3.12/site-packages/IPython/core/formatters.py:402\u001b[0m, in \u001b[0;36mBaseFormatter.__call__\u001b[0;34m(self, obj)\u001b[0m\n\u001b[1;32m    400\u001b[0m     \u001b[38;5;28;01mpass\u001b[39;00m\n\u001b[1;32m    401\u001b[0m \u001b[38;5;28;01melse\u001b[39;00m:\n\u001b[0;32m--> 402\u001b[0m     \u001b[38;5;28;01mreturn\u001b[39;00m \u001b[43mprinter\u001b[49m\u001b[43m(\u001b[49m\u001b[43mobj\u001b[49m\u001b[43m)\u001b[49m\n\u001b[1;32m    403\u001b[0m \u001b[38;5;66;03m# Finally look for special method names\u001b[39;00m\n\u001b[1;32m    404\u001b[0m method \u001b[38;5;241m=\u001b[39m get_real_method(obj, \u001b[38;5;28mself\u001b[39m\u001b[38;5;241m.\u001b[39mprint_method)\n",
      "Cell \u001b[0;32mIn[1], line 227\u001b[0m, in \u001b[0;36m__DW_OUTPUT_FORMATTER__.<locals>.DataWrangler.formatter\u001b[0;34m(cls, var, **kwargs)\u001b[0m\n\u001b[1;32m    225\u001b[0m \u001b[38;5;129m@classmethod\u001b[39m\n\u001b[1;32m    226\u001b[0m \u001b[38;5;28;01mdef\u001b[39;00m\u001b[38;5;250m \u001b[39m\u001b[38;5;21mformatter\u001b[39m(\u001b[38;5;28mcls\u001b[39m, var, \u001b[38;5;241m*\u001b[39m\u001b[38;5;241m*\u001b[39mkwargs):\n\u001b[0;32m--> 227\u001b[0m     s \u001b[38;5;241m=\u001b[39m \u001b[38;5;28;43mcls\u001b[39;49m\u001b[43m(\u001b[49m\u001b[43mvar\u001b[49m\u001b[43m,\u001b[49m\u001b[43m \u001b[49m\u001b[38;5;241;43m*\u001b[39;49m\u001b[38;5;241;43m*\u001b[39;49m\u001b[43mkwargs\u001b[49m\u001b[43m)\u001b[49m\n\u001b[1;32m    228\u001b[0m     \u001b[38;5;28;01mreturn\u001b[39;00m s\u001b[38;5;241m.\u001b[39m_repr_dw_()\n",
      "Cell \u001b[0;32mIn[1], line 221\u001b[0m, in \u001b[0;36m__DW_OUTPUT_FORMATTER__.<locals>.DataWrangler.__init__\u001b[0;34m(self, expr_val)\u001b[0m\n\u001b[1;32m    218\u001b[0m \u001b[38;5;28mself\u001b[39m\u001b[38;5;241m.\u001b[39mid \u001b[38;5;241m=\u001b[39m \u001b[38;5;28mstr\u001b[39m(uuid\u001b[38;5;241m.\u001b[39muuid4())\n\u001b[1;32m    219\u001b[0m pandas_df, conversion_method \u001b[38;5;241m=\u001b[39m api[\u001b[38;5;124m\"\u001b[39m\u001b[38;5;124mpandas_transport\u001b[39m\u001b[38;5;124m\"\u001b[39m][\u001b[38;5;124m\"\u001b[39m\u001b[38;5;124mconvert_to_pandas\u001b[39m\u001b[38;5;124m\"\u001b[39m](expr_val)\n\u001b[1;32m    220\u001b[0m tmp_vars[\u001b[38;5;28mself\u001b[39m\u001b[38;5;241m.\u001b[39mid] \u001b[38;5;241m=\u001b[39m {\n\u001b[0;32m--> 221\u001b[0m     \u001b[38;5;124m\"\u001b[39m\u001b[38;5;124mconverted\u001b[39m\u001b[38;5;124m\"\u001b[39m: \u001b[43mpandas_df\u001b[49m\u001b[38;5;241;43m.\u001b[39;49m\u001b[43mcopy\u001b[49m(deep\u001b[38;5;241m=\u001b[39m\u001b[38;5;28;01mFalse\u001b[39;00m), \u001b[38;5;66;03m# create a shallow copy in case a displayed object is mutated in the same cell\u001b[39;00m\n\u001b[1;32m    222\u001b[0m     \u001b[38;5;124m\"\u001b[39m\u001b[38;5;124mconversion_method\u001b[39m\u001b[38;5;124m\"\u001b[39m: conversion_method\n\u001b[1;32m    223\u001b[0m }\n",
      "\u001b[0;31mAttributeError\u001b[0m: 'NoneType' object has no attribute 'copy'"
     ]
    },
    {
     "data": {
      "text/html": [
       "<div>\n",
       "<style scoped>\n",
       "    .dataframe tbody tr th:only-of-type {\n",
       "        vertical-align: middle;\n",
       "    }\n",
       "\n",
       "    .dataframe tbody tr th {\n",
       "        vertical-align: top;\n",
       "    }\n",
       "\n",
       "    .dataframe thead th {\n",
       "        text-align: right;\n",
       "    }\n",
       "</style>\n",
       "<table border=\"1\" class=\"dataframe\">\n",
       "  <thead>\n",
       "    <tr style=\"text-align: right;\">\n",
       "      <th></th>\n",
       "      <th>h3_index</th>\n",
       "      <th>geometry</th>\n",
       "    </tr>\n",
       "  </thead>\n",
       "  <tbody>\n",
       "    <tr>\n",
       "      <th>0</th>\n",
       "      <td>89394461cb7ffff</td>\n",
       "      <td>POLYGON ((41.37647 2.14848, 41.3747 2.14881, 4...</td>\n",
       "    </tr>\n",
       "    <tr>\n",
       "      <th>1</th>\n",
       "      <td>89394461993ffff</td>\n",
       "      <td>POLYGON ((41.36495 2.17954, 41.36317 2.17987, ...</td>\n",
       "    </tr>\n",
       "    <tr>\n",
       "      <th>2</th>\n",
       "      <td>89394460a53ffff</td>\n",
       "      <td>POLYGON ((41.37157 2.18658, 41.36979 2.18691, ...</td>\n",
       "    </tr>\n",
       "    <tr>\n",
       "      <th>3</th>\n",
       "      <td>89394460acfffff</td>\n",
       "      <td>POLYGON ((41.37455 2.1881, 41.37277 2.18843, 4...</td>\n",
       "    </tr>\n",
       "    <tr>\n",
       "      <th>4</th>\n",
       "      <td>89394460acbffff</td>\n",
       "      <td>POLYGON ((41.37391 2.18408, 41.37213 2.18441, ...</td>\n",
       "    </tr>\n",
       "    <tr>\n",
       "      <th>...</th>\n",
       "      <td>...</td>\n",
       "      <td>...</td>\n",
       "    </tr>\n",
       "    <tr>\n",
       "      <th>1082</th>\n",
       "      <td>8939446185bffff</td>\n",
       "      <td>POLYGON ((41.34318 2.14638, 41.3414 2.14671, 4...</td>\n",
       "    </tr>\n",
       "    <tr>\n",
       "      <th>1083</th>\n",
       "      <td>8939446184bffff</td>\n",
       "      <td>POLYGON ((41.34083 2.14888, 41.33905 2.14921, ...</td>\n",
       "    </tr>\n",
       "    <tr>\n",
       "      <th>1084</th>\n",
       "      <td>89394460807ffff</td>\n",
       "      <td>POLYGON ((41.39738 2.21076, 41.39561 2.21109, ...</td>\n",
       "    </tr>\n",
       "    <tr>\n",
       "      <th>1085</th>\n",
       "      <td>89394461bc7ffff</td>\n",
       "      <td>POLYGON ((41.33571 2.16841, 41.33393 2.16874, ...</td>\n",
       "    </tr>\n",
       "    <tr>\n",
       "      <th>1086</th>\n",
       "      <td>89394460847ffff</td>\n",
       "      <td>POLYGON ((41.39077 2.20371, 41.38899 2.20404, ...</td>\n",
       "    </tr>\n",
       "  </tbody>\n",
       "</table>\n",
       "<p>1087 rows × 2 columns</p>\n",
       "</div>"
      ],
      "text/plain": [
       "             h3_index                                           geometry\n",
       "0     89394461cb7ffff  POLYGON ((41.37647 2.14848, 41.3747 2.14881, 4...\n",
       "1     89394461993ffff  POLYGON ((41.36495 2.17954, 41.36317 2.17987, ...\n",
       "2     89394460a53ffff  POLYGON ((41.37157 2.18658, 41.36979 2.18691, ...\n",
       "3     89394460acfffff  POLYGON ((41.37455 2.1881, 41.37277 2.18843, 4...\n",
       "4     89394460acbffff  POLYGON ((41.37391 2.18408, 41.37213 2.18441, ...\n",
       "...               ...                                                ...\n",
       "1082  8939446185bffff  POLYGON ((41.34318 2.14638, 41.3414 2.14671, 4...\n",
       "1083  8939446184bffff  POLYGON ((41.34083 2.14888, 41.33905 2.14921, ...\n",
       "1084  89394460807ffff  POLYGON ((41.39738 2.21076, 41.39561 2.21109, ...\n",
       "1085  89394461bc7ffff  POLYGON ((41.33571 2.16841, 41.33393 2.16874, ...\n",
       "1086  89394460847ffff  POLYGON ((41.39077 2.20371, 41.38899 2.20404, ...\n",
       "\n",
       "[1087 rows x 2 columns]"
      ]
     },
     "execution_count": 125,
     "metadata": {},
     "output_type": "execute_result"
    }
   ],
   "source": [
    "h3_gdf"
   ]
  },
  {
   "cell_type": "code",
   "execution_count": 141,
   "metadata": {},
   "outputs": [],
   "source": [
    "categories = {\n",
    "    'culture': [\n",
    "        'arts_centre', 'cinema', 'exhibition_centre', 'theatre', 'library',\n",
    "        'museum'\n",
    "    ],\n",
    "    'education': [\n",
    "        'beauty_school', 'college', 'community_centre', 'coworking_space',\n",
    "        'dance_school', 'driving_school', 'kindergarten', 'language_school',\n",
    "        'music_school', 'prep_school', 'school', 'university'\n",
    "    ],\n",
    "    'healthcare': [\n",
    "        'clinic', 'dentist', 'doctors', 'hospital', 'nursing_home', 'pharmacy',\n",
    "        'veterinary'\n",
    "    ],\n",
    "    'outdoor': [\n",
    "        'bench', 'bicycle_parking', 'bicycle_rental', 'bicycle_repair_station',\n",
    "        'fountain', 'park', 'playground', 'shelter', 'table', 'tap',\n",
    "        'waste_basket', 'waste_disposal', 'water_point', 'shower', 'toilets', 'dive_centre'\n",
    "    ],\n",
    "    'physical': [\n",
    "        'dojo', 'fitness_centre', 'gym', 'sports_centre', 'stadium'\n",
    "    ],\n",
    "    'restaurant': [\n",
    "        'bar', 'cafe', 'fast_food', 'food_court', 'ice_cream', 'pub',\n",
    "        'restaurant'\n",
    "    ],\n",
    "    'services': [\n",
    "        'aparthotel', 'apartments', 'bank', 'bureau_de_change',\n",
    "        'car_rental', 'car_wash', 'charging_station', 'courthouse',\n",
    "        'crematorium', 'events_venue', 'funeral_home', 'gambling',\n",
    "        'internet_cafe', 'love_hotel', 'marketplace', 'money_transfer',\n",
    "        'office', 'parcel_locker', 'parking', 'parking_entrance',\n",
    "        'parking_space', 'police', 'post_box', 'post_depot', 'post_office',\n",
    "        'public_building', 'recycling', 'research_institute',\n",
    "        'stock_exchange', 'taxi', 'telephone', 'townhall', 'vehicle_inspection', 'toilets', 'shower'\n",
    "    ],\n",
    "    'supplies': [\n",
    "        'atm', 'locker', 'luggage_locker', 'photo_booth', 'public_bookcase',\n",
    "        'toy_library', 'vending_machine'\n",
    "    ],\n",
    "    'transport': [\n",
    "        'boat_rental', 'bus_station', 'fuel', 'motorcycle_parking',\n",
    "        'motorcycle_rental', 'train_station'\n",
    "    ],\n",
    "    'others': [\n",
    "        'brothel', 'fixme', 'flight_attendant', 'stripclub', 'swingers club'\n",
    "    ]\n",
    "}\n"
   ]
  },
  {
   "cell_type": "code",
   "execution_count": 13,
   "metadata": {},
   "outputs": [],
   "source": [
    "import json"
   ]
  },
  {
   "cell_type": "code",
   "execution_count": 15,
   "metadata": {},
   "outputs": [],
   "source": [
    "with open('src/proxi_API/data/POIs/categories.json', 'w') as fp:\n",
    "    json.dump(categories, fp)"
   ]
  },
  {
   "cell_type": "code",
   "execution_count": 70,
   "metadata": {},
   "outputs": [
    {
     "ename": "TypeError",
     "evalue": "cell_to_boundary() got an unexpected keyword argument 'geo_json'",
     "output_type": "error",
     "traceback": [
      "\u001b[0;31m---------------------------------------------------------------------------\u001b[0m",
      "\u001b[0;31mTypeError\u001b[0m                                 Traceback (most recent call last)",
      "Cell \u001b[0;32mIn[70], line 28\u001b[0m\n\u001b[1;32m     24\u001b[0m nodes[\u001b[38;5;124m\"\u001b[39m\u001b[38;5;124mh3_index\u001b[39m\u001b[38;5;124m\"\u001b[39m] \u001b[38;5;241m=\u001b[39m nodes\u001b[38;5;241m.\u001b[39mapply(\u001b[38;5;28;01mlambda\u001b[39;00m row: h3\u001b[38;5;241m.\u001b[39mlatlng_to_cell(row[\u001b[38;5;124m\"\u001b[39m\u001b[38;5;124my\u001b[39m\u001b[38;5;124m\"\u001b[39m], row[\u001b[38;5;124m\"\u001b[39m\u001b[38;5;124mx\u001b[39m\u001b[38;5;124m\"\u001b[39m], resolution), axis\u001b[38;5;241m=\u001b[39m\u001b[38;5;241m1\u001b[39m)\n\u001b[1;32m     26\u001b[0m \u001b[38;5;66;03m# Generate H3 polygons\u001b[39;00m\n\u001b[1;32m     27\u001b[0m h3_polygons \u001b[38;5;241m=\u001b[39m {\n\u001b[0;32m---> 28\u001b[0m     h3_index: Polygon(\u001b[43mh3\u001b[49m\u001b[38;5;241;43m.\u001b[39;49m\u001b[43mcell_to_boundary\u001b[49m\u001b[43m(\u001b[49m\u001b[43mh3_index\u001b[49m\u001b[43m,\u001b[49m\u001b[43m \u001b[49m\u001b[43mgeo_json\u001b[49m\u001b[38;5;241;43m=\u001b[39;49m\u001b[38;5;28;43;01mTrue\u001b[39;49;00m\u001b[43m)\u001b[49m)\n\u001b[1;32m     29\u001b[0m     \u001b[38;5;28;01mfor\u001b[39;00m h3_index \u001b[38;5;129;01min\u001b[39;00m nodes[\u001b[38;5;124m\"\u001b[39m\u001b[38;5;124mh3_index\u001b[39m\u001b[38;5;124m\"\u001b[39m]\u001b[38;5;241m.\u001b[39munique()\n\u001b[1;32m     30\u001b[0m }\n\u001b[1;32m     32\u001b[0m \u001b[38;5;66;03m# Convert to GeoDataFrame\u001b[39;00m\n\u001b[1;32m     33\u001b[0m h3_gdf \u001b[38;5;241m=\u001b[39m gpd\u001b[38;5;241m.\u001b[39mGeoDataFrame(pd\u001b[38;5;241m.\u001b[39mDataFrame(h3_polygons\u001b[38;5;241m.\u001b[39mitems(), columns\u001b[38;5;241m=\u001b[39m[\u001b[38;5;124m\"\u001b[39m\u001b[38;5;124mh3_index\u001b[39m\u001b[38;5;124m\"\u001b[39m, \u001b[38;5;124m\"\u001b[39m\u001b[38;5;124mgeometry\u001b[39m\u001b[38;5;124m\"\u001b[39m]))\n",
      "\u001b[0;31mTypeError\u001b[0m: cell_to_boundary() got an unexpected keyword argument 'geo_json'"
     ]
    }
   ],
   "source": [
    "import osmnx as ox\n",
    "import geopandas as gpd\n",
    "import pandas as pd\n",
    "import h3\n",
    "from shapely.geometry import Polygon\n",
    "\n",
    "# Load the graph\n",
    "place = \"Barcelona, Spain\"\n",
    "G = ox.graph_from_place(place, network_type=\"walk\", retain_all=True)\n",
    "\n",
    "# Ensure G is valid before conversion\n",
    "if G is None or len(G.nodes) == 0:\n",
    "    raise ValueError(\"Error: The graph G is empty or not loaded properly.\")\n",
    "\n",
    "# Convert graph to GeoDataFrame\n",
    "nodes = ox.graph_to_gdfs(G, nodes=True, edges=False)\n",
    "\n",
    "# Ensure nodes DataFrame is valid\n",
    "if nodes is None or nodes.empty:\n",
    "    raise ValueError(\"Error: No nodes found in the graph.\")\n",
    "\n",
    "# Generate H3 indexes\n",
    "resolution = 9\n",
    "nodes[\"h3_index\"] = nodes.apply(lambda row: h3.latlng_to_cell(row[\"y\"], row[\"x\"], resolution), axis=1)\n",
    "\n",
    "# Generate H3 polygons\n",
    "h3_polygons = {\n",
    "    h3_index: Polygon(h3.cell_to_boundary(h3_index, geo_json=True))\n",
    "    for h3_index in nodes[\"h3_index\"].unique()\n",
    "}\n",
    "\n",
    "# Convert to GeoDataFrame\n",
    "h3_gdf = gpd.GeoDataFrame(pd.DataFrame(h3_polygons.items(), columns=[\"h3_index\", \"geometry\"]))\n",
    "\n",
    "# Print sample output\n",
    "print(h3_gdf.head())\n"
   ]
  },
  {
   "cell_type": "code",
   "execution_count": 71,
   "metadata": {},
   "outputs": [],
   "source": [
    "nodes = ox.graph_to_gdfs(G, nodes=True, edges=False)"
   ]
  },
  {
   "cell_type": "code",
   "execution_count": 103,
   "metadata": {},
   "outputs": [
    {
     "data": {
      "text/plain": [
       "array(['Point'], dtype=object)"
      ]
     },
     "execution_count": 103,
     "metadata": {},
     "output_type": "execute_result"
    }
   ],
   "source": [
    "nodes[['geometry']].type.unique()"
   ]
  },
  {
   "cell_type": "code",
   "execution_count": 122,
   "metadata": {},
   "outputs": [],
   "source": [
    "nodes = ox.graph_to_gdfs(G, nodes=True, edges=False, node_geometry= False).reset_index()[['x','y']]"
   ]
  },
  {
   "cell_type": "code",
   "execution_count": 123,
   "metadata": {},
   "outputs": [
    {
     "data": {
      "application/vnd.microsoft.datawrangler.viewer.v0+json": {
       "columns": [
        {
         "name": "index",
         "rawType": "int64",
         "type": "integer"
        },
        {
         "name": "x",
         "rawType": "float64",
         "type": "float"
        },
        {
         "name": "y",
         "rawType": "float64",
         "type": "float"
        }
       ],
       "conversionMethod": "pd.DataFrame",
       "ref": "cbeb7f5e-2f3d-4ee2-ac5c-839cb9892649",
       "rows": [
        [
         "0",
         "2.149443",
         "41.3753847"
        ],
        [
         "1",
         "2.1829767",
         "41.3634542"
        ],
        [
         "2",
         "2.1831268",
         "41.3634786"
        ],
        [
         "3",
         "2.1875931",
         "41.3703647"
        ],
        [
         "4",
         "2.1876862",
         "41.3701691"
        ],
        [
         "5",
         "2.187743",
         "41.3700925"
        ],
        [
         "6",
         "2.1884591",
         "41.3742718"
        ],
        [
         "7",
         "2.188195",
         "41.3737952"
        ],
        [
         "8",
         "2.1879812",
         "41.3728904"
        ],
        [
         "9",
         "2.1879268",
         "41.372491"
        ],
        [
         "10",
         "2.1886058",
         "41.3745392"
        ],
        [
         "11",
         "2.1888306",
         "41.3749826"
        ],
        [
         "12",
         "2.1888485",
         "41.3757183"
        ],
        [
         "13",
         "2.1888065",
         "41.3760184"
        ],
        [
         "14",
         "2.1886934",
         "41.3763469"
        ],
        [
         "15",
         "2.1884162",
         "41.3770509"
        ],
        [
         "16",
         "2.1880402",
         "41.3780115"
        ],
        [
         "17",
         "2.1906313",
         "41.3767732"
        ],
        [
         "18",
         "2.1912102",
         "41.3776981"
        ],
        [
         "19",
         "2.1889331",
         "41.3782089"
        ],
        [
         "20",
         "2.1899711",
         "41.3784394"
        ],
        [
         "21",
         "2.1906605",
         "41.3785912"
        ],
        [
         "22",
         "2.1919528",
         "41.3788721"
        ],
        [
         "23",
         "2.1877377",
         "41.3787967"
        ],
        [
         "24",
         "2.1874151",
         "41.3796047"
        ],
        [
         "25",
         "2.1871189",
         "41.3803712"
        ],
        [
         "26",
         "2.1891407",
         "41.3791109"
        ],
        [
         "27",
         "2.1900047",
         "41.3792994"
        ],
        [
         "28",
         "2.1922395",
         "41.3797943"
        ],
        [
         "29",
         "2.1878203",
         "41.3805427"
        ],
        [
         "30",
         "2.1869977",
         "41.3806365"
        ],
        [
         "31",
         "2.1867731",
         "41.3808683"
        ],
        [
         "32",
         "2.1863797",
         "41.3810792"
        ],
        [
         "33",
         "2.1859628",
         "41.3812783"
        ],
        [
         "34",
         "2.1852552",
         "41.3816385"
        ],
        [
         "35",
         "2.1848516",
         "41.3818202"
        ],
        [
         "36",
         "2.1841315",
         "41.3821491"
        ],
        [
         "37",
         "2.1839212",
         "41.3822514"
        ],
        [
         "38",
         "2.1831923",
         "41.3826029"
        ],
        [
         "39",
         "2.1815606",
         "41.3804982"
        ],
        [
         "40",
         "2.1812113",
         "41.3800661"
        ],
        [
         "41",
         "2.1806426",
         "41.3793565"
        ],
        [
         "42",
         "2.1801997",
         "41.3788065"
        ],
        [
         "43",
         "2.1796637",
         "41.3781463"
        ],
        [
         "44",
         "2.1790885",
         "41.3774393"
        ],
        [
         "45",
         "2.1787115",
         "41.376974"
        ],
        [
         "46",
         "2.1780416",
         "41.376127"
        ],
        [
         "47",
         "2.1781634",
         "41.375966"
        ],
        [
         "48",
         "2.178141",
         "41.3758023"
        ],
        [
         "49",
         "2.1780644",
         "41.3756571"
        ]
       ],
       "shape": {
        "columns": 2,
        "rows": 220347
       }
      },
      "text/html": [
       "<div>\n",
       "<style scoped>\n",
       "    .dataframe tbody tr th:only-of-type {\n",
       "        vertical-align: middle;\n",
       "    }\n",
       "\n",
       "    .dataframe tbody tr th {\n",
       "        vertical-align: top;\n",
       "    }\n",
       "\n",
       "    .dataframe thead th {\n",
       "        text-align: right;\n",
       "    }\n",
       "</style>\n",
       "<table border=\"1\" class=\"dataframe\">\n",
       "  <thead>\n",
       "    <tr style=\"text-align: right;\">\n",
       "      <th></th>\n",
       "      <th>x</th>\n",
       "      <th>y</th>\n",
       "    </tr>\n",
       "  </thead>\n",
       "  <tbody>\n",
       "    <tr>\n",
       "      <th>0</th>\n",
       "      <td>2.149443</td>\n",
       "      <td>41.375385</td>\n",
       "    </tr>\n",
       "    <tr>\n",
       "      <th>1</th>\n",
       "      <td>2.182977</td>\n",
       "      <td>41.363454</td>\n",
       "    </tr>\n",
       "    <tr>\n",
       "      <th>2</th>\n",
       "      <td>2.183127</td>\n",
       "      <td>41.363479</td>\n",
       "    </tr>\n",
       "    <tr>\n",
       "      <th>3</th>\n",
       "      <td>2.187593</td>\n",
       "      <td>41.370365</td>\n",
       "    </tr>\n",
       "    <tr>\n",
       "      <th>4</th>\n",
       "      <td>2.187686</td>\n",
       "      <td>41.370169</td>\n",
       "    </tr>\n",
       "    <tr>\n",
       "      <th>...</th>\n",
       "      <td>...</td>\n",
       "      <td>...</td>\n",
       "    </tr>\n",
       "    <tr>\n",
       "      <th>220342</th>\n",
       "      <td>2.183651</td>\n",
       "      <td>41.383894</td>\n",
       "    </tr>\n",
       "    <tr>\n",
       "      <th>220343</th>\n",
       "      <td>2.183191</td>\n",
       "      <td>41.383623</td>\n",
       "    </tr>\n",
       "    <tr>\n",
       "      <th>220344</th>\n",
       "      <td>2.183386</td>\n",
       "      <td>41.383880</td>\n",
       "    </tr>\n",
       "    <tr>\n",
       "      <th>220345</th>\n",
       "      <td>2.164346</td>\n",
       "      <td>41.390094</td>\n",
       "    </tr>\n",
       "    <tr>\n",
       "      <th>220346</th>\n",
       "      <td>2.164650</td>\n",
       "      <td>41.390391</td>\n",
       "    </tr>\n",
       "  </tbody>\n",
       "</table>\n",
       "<p>220347 rows × 2 columns</p>\n",
       "</div>"
      ],
      "text/plain": [
       "               x          y\n",
       "0       2.149443  41.375385\n",
       "1       2.182977  41.363454\n",
       "2       2.183127  41.363479\n",
       "3       2.187593  41.370365\n",
       "4       2.187686  41.370169\n",
       "...          ...        ...\n",
       "220342  2.183651  41.383894\n",
       "220343  2.183191  41.383623\n",
       "220344  2.183386  41.383880\n",
       "220345  2.164346  41.390094\n",
       "220346  2.164650  41.390391\n",
       "\n",
       "[220347 rows x 2 columns]"
      ]
     },
     "execution_count": 123,
     "metadata": {},
     "output_type": "execute_result"
    }
   ],
   "source": [
    "nodes"
   ]
  },
  {
   "cell_type": "code",
   "execution_count": 88,
   "metadata": {},
   "outputs": [
    {
     "data": {
      "text/plain": [
       "Index(['y', 'x', 'street_count', 'highway', 'ref', 'railway', 'junction',\n",
       "       'geometry'],\n",
       "      dtype='object')"
      ]
     },
     "execution_count": 88,
     "metadata": {},
     "output_type": "execute_result"
    }
   ],
   "source": [
    "nodes.keys()"
   ]
  },
  {
   "cell_type": "code",
   "execution_count": 84,
   "metadata": {},
   "outputs": [],
   "source": [
    "nodes = ox.graph_to_gdfs(G, nodes=True, edges=False, fill_edge_geometry=False)\n",
    "\n",
    "if nodes is None:\n",
    "    raise ValueError(\"Error: graph_to_gdfs() returned None, possibly due to an empty graph.\")\n"
   ]
  },
  {
   "cell_type": "code",
   "execution_count": 85,
   "metadata": {},
   "outputs": [],
   "source": [
    "if nodes.empty:\n",
    "    raise ValueError(\"Error: The nodes GeoDataFrame is empty. No nodes found in the graph.\")"
   ]
  },
  {
   "cell_type": "code",
   "execution_count": 132,
   "metadata": {},
   "outputs": [
    {
     "ename": "AttributeError",
     "evalue": "'NoneType' object has no attribute 'copy'",
     "output_type": "error",
     "traceback": [
      "\u001b[0;31m---------------------------------------------------------------------------\u001b[0m",
      "\u001b[0;31mAttributeError\u001b[0m                            Traceback (most recent call last)",
      "File \u001b[0;32m~/Documents/proximity_API/.venv/lib/python3.12/site-packages/IPython/core/formatters.py:402\u001b[0m, in \u001b[0;36mBaseFormatter.__call__\u001b[0;34m(self, obj)\u001b[0m\n\u001b[1;32m    400\u001b[0m     \u001b[38;5;28;01mpass\u001b[39;00m\n\u001b[1;32m    401\u001b[0m \u001b[38;5;28;01melse\u001b[39;00m:\n\u001b[0;32m--> 402\u001b[0m     \u001b[38;5;28;01mreturn\u001b[39;00m \u001b[43mprinter\u001b[49m\u001b[43m(\u001b[49m\u001b[43mobj\u001b[49m\u001b[43m)\u001b[49m\n\u001b[1;32m    403\u001b[0m \u001b[38;5;66;03m# Finally look for special method names\u001b[39;00m\n\u001b[1;32m    404\u001b[0m method \u001b[38;5;241m=\u001b[39m get_real_method(obj, \u001b[38;5;28mself\u001b[39m\u001b[38;5;241m.\u001b[39mprint_method)\n",
      "Cell \u001b[0;32mIn[1], line 227\u001b[0m, in \u001b[0;36m__DW_OUTPUT_FORMATTER__.<locals>.DataWrangler.formatter\u001b[0;34m(cls, var, **kwargs)\u001b[0m\n\u001b[1;32m    225\u001b[0m \u001b[38;5;129m@classmethod\u001b[39m\n\u001b[1;32m    226\u001b[0m \u001b[38;5;28;01mdef\u001b[39;00m\u001b[38;5;250m \u001b[39m\u001b[38;5;21mformatter\u001b[39m(\u001b[38;5;28mcls\u001b[39m, var, \u001b[38;5;241m*\u001b[39m\u001b[38;5;241m*\u001b[39mkwargs):\n\u001b[0;32m--> 227\u001b[0m     s \u001b[38;5;241m=\u001b[39m \u001b[38;5;28;43mcls\u001b[39;49m\u001b[43m(\u001b[49m\u001b[43mvar\u001b[49m\u001b[43m,\u001b[49m\u001b[43m \u001b[49m\u001b[38;5;241;43m*\u001b[39;49m\u001b[38;5;241;43m*\u001b[39;49m\u001b[43mkwargs\u001b[49m\u001b[43m)\u001b[49m\n\u001b[1;32m    228\u001b[0m     \u001b[38;5;28;01mreturn\u001b[39;00m s\u001b[38;5;241m.\u001b[39m_repr_dw_()\n",
      "Cell \u001b[0;32mIn[1], line 221\u001b[0m, in \u001b[0;36m__DW_OUTPUT_FORMATTER__.<locals>.DataWrangler.__init__\u001b[0;34m(self, expr_val)\u001b[0m\n\u001b[1;32m    218\u001b[0m \u001b[38;5;28mself\u001b[39m\u001b[38;5;241m.\u001b[39mid \u001b[38;5;241m=\u001b[39m \u001b[38;5;28mstr\u001b[39m(uuid\u001b[38;5;241m.\u001b[39muuid4())\n\u001b[1;32m    219\u001b[0m pandas_df, conversion_method \u001b[38;5;241m=\u001b[39m api[\u001b[38;5;124m\"\u001b[39m\u001b[38;5;124mpandas_transport\u001b[39m\u001b[38;5;124m\"\u001b[39m][\u001b[38;5;124m\"\u001b[39m\u001b[38;5;124mconvert_to_pandas\u001b[39m\u001b[38;5;124m\"\u001b[39m](expr_val)\n\u001b[1;32m    220\u001b[0m tmp_vars[\u001b[38;5;28mself\u001b[39m\u001b[38;5;241m.\u001b[39mid] \u001b[38;5;241m=\u001b[39m {\n\u001b[0;32m--> 221\u001b[0m     \u001b[38;5;124m\"\u001b[39m\u001b[38;5;124mconverted\u001b[39m\u001b[38;5;124m\"\u001b[39m: \u001b[43mpandas_df\u001b[49m\u001b[38;5;241;43m.\u001b[39;49m\u001b[43mcopy\u001b[49m(deep\u001b[38;5;241m=\u001b[39m\u001b[38;5;28;01mFalse\u001b[39;00m), \u001b[38;5;66;03m# create a shallow copy in case a displayed object is mutated in the same cell\u001b[39;00m\n\u001b[1;32m    222\u001b[0m     \u001b[38;5;124m\"\u001b[39m\u001b[38;5;124mconversion_method\u001b[39m\u001b[38;5;124m\"\u001b[39m: conversion_method\n\u001b[1;32m    223\u001b[0m }\n",
      "\u001b[0;31mAttributeError\u001b[0m: 'NoneType' object has no attribute 'copy'"
     ]
    },
    {
     "data": {
      "text/html": [
       "<div>\n",
       "<style scoped>\n",
       "    .dataframe tbody tr th:only-of-type {\n",
       "        vertical-align: middle;\n",
       "    }\n",
       "\n",
       "    .dataframe tbody tr th {\n",
       "        vertical-align: top;\n",
       "    }\n",
       "\n",
       "    .dataframe thead th {\n",
       "        text-align: right;\n",
       "    }\n",
       "</style>\n",
       "<table border=\"1\" class=\"dataframe\">\n",
       "  <thead>\n",
       "    <tr style=\"text-align: right;\">\n",
       "      <th></th>\n",
       "      <th>h3_index</th>\n",
       "      <th>geometry</th>\n",
       "    </tr>\n",
       "  </thead>\n",
       "  <tbody>\n",
       "    <tr>\n",
       "      <th>0</th>\n",
       "      <td>89394461cb7ffff</td>\n",
       "      <td>POLYGON ((41.37647 2.14848, 41.3747 2.14881, 4...</td>\n",
       "    </tr>\n",
       "    <tr>\n",
       "      <th>1</th>\n",
       "      <td>89394461993ffff</td>\n",
       "      <td>POLYGON ((41.36495 2.17954, 41.36317 2.17987, ...</td>\n",
       "    </tr>\n",
       "    <tr>\n",
       "      <th>2</th>\n",
       "      <td>89394460a53ffff</td>\n",
       "      <td>POLYGON ((41.37157 2.18658, 41.36979 2.18691, ...</td>\n",
       "    </tr>\n",
       "    <tr>\n",
       "      <th>3</th>\n",
       "      <td>89394460acfffff</td>\n",
       "      <td>POLYGON ((41.37455 2.1881, 41.37277 2.18843, 4...</td>\n",
       "    </tr>\n",
       "    <tr>\n",
       "      <th>4</th>\n",
       "      <td>89394460acbffff</td>\n",
       "      <td>POLYGON ((41.37391 2.18408, 41.37213 2.18441, ...</td>\n",
       "    </tr>\n",
       "    <tr>\n",
       "      <th>...</th>\n",
       "      <td>...</td>\n",
       "      <td>...</td>\n",
       "    </tr>\n",
       "    <tr>\n",
       "      <th>1082</th>\n",
       "      <td>8939446185bffff</td>\n",
       "      <td>POLYGON ((41.34318 2.14638, 41.3414 2.14671, 4...</td>\n",
       "    </tr>\n",
       "    <tr>\n",
       "      <th>1083</th>\n",
       "      <td>8939446184bffff</td>\n",
       "      <td>POLYGON ((41.34083 2.14888, 41.33905 2.14921, ...</td>\n",
       "    </tr>\n",
       "    <tr>\n",
       "      <th>1084</th>\n",
       "      <td>89394460807ffff</td>\n",
       "      <td>POLYGON ((41.39738 2.21076, 41.39561 2.21109, ...</td>\n",
       "    </tr>\n",
       "    <tr>\n",
       "      <th>1085</th>\n",
       "      <td>89394461bc7ffff</td>\n",
       "      <td>POLYGON ((41.33571 2.16841, 41.33393 2.16874, ...</td>\n",
       "    </tr>\n",
       "    <tr>\n",
       "      <th>1086</th>\n",
       "      <td>89394460847ffff</td>\n",
       "      <td>POLYGON ((41.39077 2.20371, 41.38899 2.20404, ...</td>\n",
       "    </tr>\n",
       "  </tbody>\n",
       "</table>\n",
       "<p>1087 rows × 2 columns</p>\n",
       "</div>"
      ],
      "text/plain": [
       "             h3_index                                           geometry\n",
       "0     89394461cb7ffff  POLYGON ((41.37647 2.14848, 41.3747 2.14881, 4...\n",
       "1     89394461993ffff  POLYGON ((41.36495 2.17954, 41.36317 2.17987, ...\n",
       "2     89394460a53ffff  POLYGON ((41.37157 2.18658, 41.36979 2.18691, ...\n",
       "3     89394460acfffff  POLYGON ((41.37455 2.1881, 41.37277 2.18843, 4...\n",
       "4     89394460acbffff  POLYGON ((41.37391 2.18408, 41.37213 2.18441, ...\n",
       "...               ...                                                ...\n",
       "1082  8939446185bffff  POLYGON ((41.34318 2.14638, 41.3414 2.14671, 4...\n",
       "1083  8939446184bffff  POLYGON ((41.34083 2.14888, 41.33905 2.14921, ...\n",
       "1084  89394460807ffff  POLYGON ((41.39738 2.21076, 41.39561 2.21109, ...\n",
       "1085  89394461bc7ffff  POLYGON ((41.33571 2.16841, 41.33393 2.16874, ...\n",
       "1086  89394460847ffff  POLYGON ((41.39077 2.20371, 41.38899 2.20404, ...\n",
       "\n",
       "[1087 rows x 2 columns]"
      ]
     },
     "metadata": {},
     "output_type": "display_data"
    }
   ],
   "source": [
    "import pandas as pd\n",
    "import geopandas as gpd\n",
    "\n",
    "pd.set_option(\"display.max_columns\", None)\n",
    "gpd.options.display_precision = 5\n",
    "\n",
    "display(h3_gdf)  # Instead of print(h3_gdf)\n"
   ]
  },
  {
   "cell_type": "code",
   "execution_count": 133,
   "metadata": {},
   "outputs": [
    {
     "name": "stdout",
     "output_type": "stream",
     "text": [
      "          h3_index                                           geometry\n",
      "0  89394461cb7ffff  POLYGON ((41.37647 2.14848, 41.3747 2.14881, 4...\n",
      "1  89394461993ffff  POLYGON ((41.36495 2.17954, 41.36317 2.17987, ...\n",
      "2  89394460a53ffff  POLYGON ((41.37157 2.18658, 41.36979 2.18691, ...\n",
      "3  89394460acfffff  POLYGON ((41.37455 2.1881, 41.37277 2.18843, 4...\n",
      "4  89394460acbffff  POLYGON ((41.37391 2.18408, 41.37213 2.18441, ...\n"
     ]
    }
   ],
   "source": [
    "print(h3_gdf.head())\n",
    "h3_gdf.to_csv(\"debug_output.csv\")"
   ]
  },
  {
   "cell_type": "code",
   "execution_count": null,
   "metadata": {},
   "outputs": [],
   "source": []
  }
 ],
 "metadata": {
  "kernelspec": {
   "display_name": ".venv",
   "language": "python",
   "name": "python3"
  },
  "language_info": {
   "codemirror_mode": {
    "name": "ipython",
    "version": 3
   },
   "file_extension": ".py",
   "mimetype": "text/x-python",
   "name": "python",
   "nbconvert_exporter": "python",
   "pygments_lexer": "ipython3",
   "version": "3.12.8"
  }
 },
 "nbformat": 4,
 "nbformat_minor": 2
}
