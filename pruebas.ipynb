{
 "cells": [
  {
   "cell_type": "code",
   "execution_count": 4,
   "metadata": {},
   "outputs": [],
   "source": [
    "import pandas as pd\n",
    "import geopandas as gpd\n",
    "import os\n",
    "from joblib import Parallel, delayed\n",
    "from pathlib import Path\n",
    "from proxi_API.data.settings import N_CORES, H3_ZOOM\n",
    "from proxi_API.model.data_processing import get_city, get_streets\n",
    "from proxi_API.model import data_aggregation\n",
    "from proxi_API.model import mobility_indices\n",
    "from proxi_API.model import h3_mapping\n",
    "import osmnx as ox\n",
    "import logging"
   ]
  },
  {
   "cell_type": "code",
   "execution_count": 8,
   "metadata": {},
   "outputs": [],
   "source": [
    "CITY = 'Barcelona'\n",
    "out = Path(\"src/proxi_API/data/cities\")\n",
    "agg = gpd.read_file(out / f\"{CITY}_{H3_ZOOM}_agg.geojson\")"
   ]
  },
  {
   "cell_type": "code",
   "execution_count": 9,
   "metadata": {},
   "outputs": [
    {
     "data": {
      "text/plain": [
       "Index(['proximity_time_foot', 'residentes_total', 'visita_tur_stica_total',\n",
       "       'trabajadores_estudiantes_total', 'compras_ocio_total',\n",
       "       'acceso_hosteler_a_total', 'acceso_tpte_p_blico_total', 'p_t',\n",
       "       'geoid_left', 'mob_index', 'residentes_index', 'turistas_index',\n",
       "       'trabajadores_index', 'compras_index', 'hosteleria_index',\n",
       "       'transporte_index', 'h3_id', 'geometry'],\n",
       "      dtype='object')"
      ]
     },
     "execution_count": 9,
     "metadata": {},
     "output_type": "execute_result"
    }
   ],
   "source": [
    "agg.keys()"
   ]
  },
  {
   "cell_type": "code",
   "execution_count": 10,
   "metadata": {},
   "outputs": [
    {
     "data": {
      "text/plain": [
       "np.float64(7515453.533177729)"
      ]
     },
     "execution_count": 10,
     "metadata": {},
     "output_type": "execute_result"
    }
   ],
   "source": [
    "agg.p_t.sum()"
   ]
  },
  {
   "cell_type": "code",
   "execution_count": 12,
   "metadata": {},
   "outputs": [
    {
     "data": {
      "text/plain": [
       "np.float64(0.21599756255680175)"
      ]
     },
     "execution_count": 12,
     "metadata": {},
     "output_type": "execute_result"
    }
   ],
   "source": [
    "agg.mob_index.sum()"
   ]
  },
  {
   "cell_type": "code",
   "execution_count": null,
   "metadata": {},
   "outputs": [],
   "source": []
  }
 ],
 "metadata": {
  "kernelspec": {
   "display_name": ".venv",
   "language": "python",
   "name": "python3"
  },
  "language_info": {
   "codemirror_mode": {
    "name": "ipython",
    "version": 3
   },
   "file_extension": ".py",
   "mimetype": "text/x-python",
   "name": "python",
   "nbconvert_exporter": "python",
   "pygments_lexer": "ipython3",
   "version": "3.12.8"
  }
 },
 "nbformat": 4,
 "nbformat_minor": 2
}
